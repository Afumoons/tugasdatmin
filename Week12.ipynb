{
 "cells": [
  {
   "cell_type": "code",
   "execution_count": 1,
   "metadata": {},
   "outputs": [
    {
     "data": {
      "text/html": [
       "<div>\n",
       "<style scoped>\n",
       "    .dataframe tbody tr th:only-of-type {\n",
       "        vertical-align: middle;\n",
       "    }\n",
       "\n",
       "    .dataframe tbody tr th {\n",
       "        vertical-align: top;\n",
       "    }\n",
       "\n",
       "    .dataframe thead th {\n",
       "        text-align: right;\n",
       "    }\n",
       "</style>\n",
       "<table border=\"1\" class=\"dataframe\">\n",
       "  <thead>\n",
       "    <tr style=\"text-align: right;\">\n",
       "      <th></th>\n",
       "      <th>tweet</th>\n",
       "      <th>sentiment</th>\n",
       "    </tr>\n",
       "  </thead>\n",
       "  <tbody>\n",
       "    <tr>\n",
       "      <th>0</th>\n",
       "      <td>pake hp xiaomi bisa kan</td>\n",
       "      <td>Positive</td>\n",
       "    </tr>\n",
       "    <tr>\n",
       "      <th>1</th>\n",
       "      <td>Xiaomi yi action kamera bagus juga buat video bisa di jadikan pertimbangan nihhh</td>\n",
       "      <td>Positive</td>\n",
       "    </tr>\n",
       "    <tr>\n",
       "      <th>2</th>\n",
       "      <td>Ya Allah jauhkanlah aku dari godaan clickbait line today dan berita-berita di browser xiaomi</td>\n",
       "      <td>Positive</td>\n",
       "    </tr>\n",
       "    <tr>\n",
       "      <th>3</th>\n",
       "      <td>hpmu opo se? kok sawangane jernih koyok iph â Xiaomi euy:' https://lap78.ask.fm/igoto/45DKECPW7B667HQMHN2IG6NM7SOD5OAUS7QPPAN4D7ROV45V2Q24OJAMGBFM2RRQK2272FYJJNWDWXQVYYU5Y25C...</td>\n",
       "      <td>Positive</td>\n",
       "    </tr>\n",
       "    <tr>\n",
       "      <th>4</th>\n",
       "      <td>numpang nanya itu hapenya xiaomi bukan ya? Kalo iya tipe apa? Jernih kameranya mirip iphone</td>\n",
       "      <td>Positive</td>\n",
       "    </tr>\n",
       "  </tbody>\n",
       "</table>\n",
       "</div>"
      ],
      "text/plain": [
       "                                                                                                                                                                                 tweet  \\\n",
       "0                                                                                                                                                              pake hp xiaomi bisa kan   \n",
       "1                                                                                                     Xiaomi yi action kamera bagus juga buat video bisa di jadikan pertimbangan nihhh   \n",
       "2                                                                                         Ya Allah jauhkanlah aku dari godaan clickbait line today dan berita-berita di browser xiaomi   \n",
       "3  hpmu opo se? kok sawangane jernih koyok iph â Xiaomi euy:' https://lap78.ask.fm/igoto/45DKECPW7B667HQMHN2IG6NM7SOD5OAUS7QPPAN4D7ROV45V2Q24OJAMGBFM2RRQK2272FYJJNWDWXQVYYU5Y25C...   \n",
       "4                                                                                          numpang nanya itu hapenya xiaomi bukan ya? Kalo iya tipe apa? Jernih kameranya mirip iphone   \n",
       "\n",
       "  sentiment  \n",
       "0  Positive  \n",
       "1  Positive  \n",
       "2  Positive  \n",
       "3  Positive  \n",
       "4  Positive  "
      ]
     },
     "execution_count": 1,
     "metadata": {},
     "output_type": "execute_result"
    }
   ],
   "source": [
    "### import library\n",
    "import numpy as np\n",
    "import pandas as pd\n",
    "import matplotlib.pyplot as plt\n",
    "import seaborn as sns\n",
    "%matplotlib inline\n",
    "plt.style.use('ggplot')\n",
    "sns.set_style('whitegrid')\n",
    "\n",
    "## library untuk prerpocessing text\n",
    "import csv\n",
    "import re\n",
    "import nltk\n",
    "import string\n",
    "from nltk.corpus import stopwords\n",
    "from nltk.tokenize import word_tokenize, sent_tokenize\n",
    "from Sastrawi.Stemmer.StemmerFactory import StemmerFactory\n",
    "\n",
    "## Library untuk vectorized\n",
    "from sklearn.feature_extraction.text import TfidfVectorizer\n",
    "from sklearn.feature_extraction.text import TfidfTransformer\n",
    "\n",
    "## Library untuk pemodelan klasifikasi\n",
    "from sklearn.model_selection import train_test_split\n",
    "from sklearn.naive_bayes import MultinomialNB\n",
    "from sklearn.naive_bayes import BernoulliNB\n",
    "from sklearn.naive_bayes import GaussianNB\n",
    "\n",
    "## Library untuk evaluasa\n",
    "from sklearn.metrics import confusion_matrix\n",
    "from sklearn.metrics import accuracy_score\n",
    "pd.set_option('max_colwidth', 180)\n",
    "\n",
    "##### LOAD DATA\n",
    "df = pd.read_csv(\"./xiaomi2019.csv\", sep=\";\", encoding=\"ISO-8859-1\")\n",
    "df.head()"
   ]
  },
  {
   "cell_type": "code",
   "execution_count": 2,
   "metadata": {},
   "outputs": [
    {
     "name": "stdout",
     "output_type": "stream",
     "text": [
      "<class 'pandas.core.frame.DataFrame'>\n",
      "RangeIndex: 101 entries, 0 to 100\n",
      "Data columns (total 2 columns):\n",
      " #   Column     Non-Null Count  Dtype \n",
      "---  ------     --------------  ----- \n",
      " 0   tweet      101 non-null    object\n",
      " 1   sentiment  101 non-null    object\n",
      "dtypes: object(2)\n",
      "memory usage: 1.7+ KB\n"
     ]
    }
   ],
   "source": [
    "##### EXPLORE DATA\n",
    "df.info()"
   ]
  },
  {
   "cell_type": "code",
   "execution_count": 3,
   "metadata": {},
   "outputs": [
    {
     "data": {
      "image/png": "[encoded data removed]",
      "text/plain": [
       "<Figure size 432x432 with 1 Axes>"
      ]
     },
     "metadata": {},
     "output_type": "display_data"
    }
   ],
   "source": [
    "df[\"sentiment\"].value_counts().plot(kind=\"pie\", explode=[0, 0.1], figsize=(6,6), autopct=\"%1.1f%%\", shadow=True)\n",
    "plt.ylabel(\"positive vs negative\")\n",
    "plt.legend([\"postive\", \"negative\"])\n",
    "plt.show()"
   ]
  },
  {
   "cell_type": "code",
   "execution_count": 4,
   "metadata": {},
   "outputs": [
    {
     "data": {
      "text/html": [
       "<div>\n",
       "<style scoped>\n",
       "    .dataframe tbody tr th:only-of-type {\n",
       "        vertical-align: middle;\n",
       "    }\n",
       "\n",
       "    .dataframe tbody tr th {\n",
       "        vertical-align: top;\n",
       "    }\n",
       "\n",
       "    .dataframe thead th {\n",
       "        text-align: right;\n",
       "    }\n",
       "</style>\n",
       "<table border=\"1\" class=\"dataframe\">\n",
       "  <thead>\n",
       "    <tr style=\"text-align: right;\">\n",
       "      <th></th>\n",
       "      <th>tweet</th>\n",
       "      <th>sentiment</th>\n",
       "      <th>length</th>\n",
       "    </tr>\n",
       "  </thead>\n",
       "  <tbody>\n",
       "    <tr>\n",
       "      <th>0</th>\n",
       "      <td>pake hp xiaomi bisa kan</td>\n",
       "      <td>Positive</td>\n",
       "      <td>23</td>\n",
       "    </tr>\n",
       "    <tr>\n",
       "      <th>1</th>\n",
       "      <td>Xiaomi yi action kamera bagus juga buat video bisa di jadikan pertimbangan nihhh</td>\n",
       "      <td>Positive</td>\n",
       "      <td>80</td>\n",
       "    </tr>\n",
       "    <tr>\n",
       "      <th>2</th>\n",
       "      <td>Ya Allah jauhkanlah aku dari godaan clickbait line today dan berita-berita di browser xiaomi</td>\n",
       "      <td>Positive</td>\n",
       "      <td>92</td>\n",
       "    </tr>\n",
       "    <tr>\n",
       "      <th>3</th>\n",
       "      <td>hpmu opo se? kok sawangane jernih koyok iph â Xiaomi euy:' https://lap78.ask.fm/igoto/45DKECPW7B667HQMHN2IG6NM7SOD5OAUS7QPPAN4D7ROV45V2Q24OJAMGBFM2RRQK2272FYJJNWDWXQVYYU5Y25C...</td>\n",
       "      <td>Positive</td>\n",
       "      <td>309</td>\n",
       "    </tr>\n",
       "    <tr>\n",
       "      <th>4</th>\n",
       "      <td>numpang nanya itu hapenya xiaomi bukan ya? Kalo iya tipe apa? Jernih kameranya mirip iphone</td>\n",
       "      <td>Positive</td>\n",
       "      <td>91</td>\n",
       "    </tr>\n",
       "  </tbody>\n",
       "</table>\n",
       "</div>"
      ],
      "text/plain": [
       "                                                                                                                                                                                 tweet  \\\n",
       "0                                                                                                                                                              pake hp xiaomi bisa kan   \n",
       "1                                                                                                     Xiaomi yi action kamera bagus juga buat video bisa di jadikan pertimbangan nihhh   \n",
       "2                                                                                         Ya Allah jauhkanlah aku dari godaan clickbait line today dan berita-berita di browser xiaomi   \n",
       "3  hpmu opo se? kok sawangane jernih koyok iph â Xiaomi euy:' https://lap78.ask.fm/igoto/45DKECPW7B667HQMHN2IG6NM7SOD5OAUS7QPPAN4D7ROV45V2Q24OJAMGBFM2RRQK2272FYJJNWDWXQVYYU5Y25C...   \n",
       "4                                                                                          numpang nanya itu hapenya xiaomi bukan ya? Kalo iya tipe apa? Jernih kameranya mirip iphone   \n",
       "\n",
       "  sentiment  length  \n",
       "0  Positive      23  \n",
       "1  Positive      80  \n",
       "2  Positive      92  \n",
       "3  Positive     309  \n",
       "4  Positive      91  "
      ]
     },
     "execution_count": 4,
     "metadata": {},
     "output_type": "execute_result"
    }
   ],
   "source": [
    "#Len berfungsi untuk menghitung panjang karakter\n",
    "df[\"length\"]=df[\"tweet\"].apply(len)\n",
    "df.head()"
   ]
  },
  {
   "cell_type": "code",
   "execution_count": 5,
   "metadata": {},
   "outputs": [
    {
     "data": {
      "text/html": [
       "<div>\n",
       "<style scoped>\n",
       "    .dataframe tbody tr th:only-of-type {\n",
       "        vertical-align: middle;\n",
       "    }\n",
       "\n",
       "    .dataframe tbody tr th {\n",
       "        vertical-align: top;\n",
       "    }\n",
       "\n",
       "    .dataframe thead th {\n",
       "        text-align: right;\n",
       "    }\n",
       "</style>\n",
       "<table border=\"1\" class=\"dataframe\">\n",
       "  <thead>\n",
       "    <tr style=\"text-align: right;\">\n",
       "      <th></th>\n",
       "      <th>tweet</th>\n",
       "      <th>sentiment</th>\n",
       "      <th>length</th>\n",
       "      <th>wordCount</th>\n",
       "    </tr>\n",
       "  </thead>\n",
       "  <tbody>\n",
       "    <tr>\n",
       "      <th>0</th>\n",
       "      <td>pake hp xiaomi bisa kan</td>\n",
       "      <td>Positive</td>\n",
       "      <td>23</td>\n",
       "      <td>[4, 2, 6, 4, 3]</td>\n",
       "    </tr>\n",
       "    <tr>\n",
       "      <th>1</th>\n",
       "      <td>Xiaomi yi action kamera bagus juga buat video bisa di jadikan pertimbangan nihhh</td>\n",
       "      <td>Positive</td>\n",
       "      <td>80</td>\n",
       "      <td>[6, 2, 6, 6, 5, 4, 4, 5, 4, 2, 7, 12, 5]</td>\n",
       "    </tr>\n",
       "    <tr>\n",
       "      <th>2</th>\n",
       "      <td>Ya Allah jauhkanlah aku dari godaan clickbait line today dan berita-berita di browser xiaomi</td>\n",
       "      <td>Positive</td>\n",
       "      <td>92</td>\n",
       "      <td>[2, 5, 10, 3, 4, 6, 9, 4, 5, 3, 13, 2, 7, 6]</td>\n",
       "    </tr>\n",
       "    <tr>\n",
       "      <th>3</th>\n",
       "      <td>hpmu opo se? kok sawangane jernih koyok iph â Xiaomi euy:' https://lap78.ask.fm/igoto/45DKECPW7B667HQMHN2IG6NM7SOD5OAUS7QPPAN4D7ROV45V2Q24OJAMGBFM2RRQK2272FYJJNWDWXQVYYU5Y25C...</td>\n",
       "      <td>Positive</td>\n",
       "      <td>309</td>\n",
       "      <td>[4, 3, 3, 3, 9, 6, 5, 3, 3, 6, 5, 244, 3]</td>\n",
       "    </tr>\n",
       "    <tr>\n",
       "      <th>4</th>\n",
       "      <td>numpang nanya itu hapenya xiaomi bukan ya? Kalo iya tipe apa? Jernih kameranya mirip iphone</td>\n",
       "      <td>Positive</td>\n",
       "      <td>91</td>\n",
       "      <td>[7, 5, 3, 7, 6, 5, 3, 4, 3, 4, 4, 6, 9, 5, 6]</td>\n",
       "    </tr>\n",
       "  </tbody>\n",
       "</table>\n",
       "</div>"
      ],
      "text/plain": [
       "                                                                                                                                                                                 tweet  \\\n",
       "0                                                                                                                                                              pake hp xiaomi bisa kan   \n",
       "1                                                                                                     Xiaomi yi action kamera bagus juga buat video bisa di jadikan pertimbangan nihhh   \n",
       "2                                                                                         Ya Allah jauhkanlah aku dari godaan clickbait line today dan berita-berita di browser xiaomi   \n",
       "3  hpmu opo se? kok sawangane jernih koyok iph â Xiaomi euy:' https://lap78.ask.fm/igoto/45DKECPW7B667HQMHN2IG6NM7SOD5OAUS7QPPAN4D7ROV45V2Q24OJAMGBFM2RRQK2272FYJJNWDWXQVYYU5Y25C...   \n",
       "4                                                                                          numpang nanya itu hapenya xiaomi bukan ya? Kalo iya tipe apa? Jernih kameranya mirip iphone   \n",
       "\n",
       "  sentiment  length                                      wordCount  \n",
       "0  Positive      23                                [4, 2, 6, 4, 3]  \n",
       "1  Positive      80       [6, 2, 6, 6, 5, 4, 4, 5, 4, 2, 7, 12, 5]  \n",
       "2  Positive      92   [2, 5, 10, 3, 4, 6, 9, 4, 5, 3, 13, 2, 7, 6]  \n",
       "3  Positive     309      [4, 3, 3, 3, 9, 6, 5, 3, 3, 6, 5, 244, 3]  \n",
       "4  Positive      91  [7, 5, 3, 7, 6, 5, 3, 4, 3, 4, 4, 6, 9, 5, 6]  "
      ]
     },
     "execution_count": 5,
     "metadata": {},
     "output_type": "execute_result"
    }
   ],
   "source": [
    "#Dengan menggunakan fungsi getWordCount dapat menghitung jumlah kata dalam bentuk array serta jumlah karakter yang dipresentasikan dalam angka\n",
    "arr = df[\"tweet\"].to_numpy()\n",
    "def getWordCount(tweet):\n",
    "  wordCount = list(map(len, tweet.split()))\n",
    "  return wordCount\n",
    "result = map(getWordCount, arr)\n",
    "df[\"wordCount\"]=list(result)\n",
    "df.head()"
   ]
  },
  {
   "cell_type": "code",
   "execution_count": 6,
   "metadata": {},
   "outputs": [
    {
     "data": {
      "text/plain": [
       "count    101.00000\n",
       "mean      76.80198\n",
       "std       56.98895\n",
       "min        7.00000\n",
       "25%       36.00000\n",
       "50%       60.00000\n",
       "75%       99.00000\n",
       "max      309.00000\n",
       "Name: tweetLength, dtype: float64"
      ]
     },
     "execution_count": 6,
     "metadata": {},
     "output_type": "execute_result"
    }
   ],
   "source": [
    "df[\"tweetLength\"] = df[\"tweet\"].apply(len)\n",
    "df[\"tweetLength\"].describe()"
   ]
  },
  {
   "cell_type": "code",
   "execution_count": 7,
   "metadata": {},
   "outputs": [
    {
     "data": {
      "text/html": [
       "<div>\n",
       "<style scoped>\n",
       "    .dataframe tbody tr th:only-of-type {\n",
       "        vertical-align: middle;\n",
       "    }\n",
       "\n",
       "    .dataframe tbody tr th {\n",
       "        vertical-align: top;\n",
       "    }\n",
       "\n",
       "    .dataframe thead th {\n",
       "        text-align: right;\n",
       "    }\n",
       "</style>\n",
       "<table border=\"1\" class=\"dataframe\">\n",
       "  <thead>\n",
       "    <tr style=\"text-align: right;\">\n",
       "      <th></th>\n",
       "      <th>tweet</th>\n",
       "    </tr>\n",
       "  </thead>\n",
       "  <tbody>\n",
       "    <tr>\n",
       "      <th>0</th>\n",
       "      <td>pake hp xiaomi bisa kan</td>\n",
       "    </tr>\n",
       "    <tr>\n",
       "      <th>1</th>\n",
       "      <td>xiaomi yi action kamera bagus juga buat video bisa di jadikan pertimbangan nihhh</td>\n",
       "    </tr>\n",
       "    <tr>\n",
       "      <th>2</th>\n",
       "      <td>ya allah jauhkanlah aku dari godaan clickbait line today dan berita-berita di browser xiaomi</td>\n",
       "    </tr>\n",
       "    <tr>\n",
       "      <th>3</th>\n",
       "      <td>hpmu opo se? kok sawangane jernih koyok iph â xiaomi euy:' ==â â¦</td>\n",
       "    </tr>\n",
       "    <tr>\n",
       "      <th>4</th>\n",
       "      <td>numpang nanya itu hapenya xiaomi bukan ya? kalo iya tipe apa? jernih kameranya mirip iphone</td>\n",
       "    </tr>\n",
       "    <tr>\n",
       "      <th>...</th>\n",
       "      <td>...</td>\n",
       "    </tr>\n",
       "    <tr>\n",
       "      <th>96</th>\n",
       "      <td>xiaomi bagus ka hehe</td>\n",
       "    </tr>\n",
       "    <tr>\n",
       "      <th>97</th>\n",
       "      <td>baru tahu kalo xiaomi bisa screen record wkwkwk</td>\n",
       "    </tr>\n",
       "    <tr>\n",
       "      <th>98</th>\n",
       "      <td>bgst mau nanya disini ada yg  xiaomi mi ya susah cari sinyal ga semenjak update ke patch juni ?</td>\n",
       "    </tr>\n",
       "    <tr>\n",
       "      <th>99</th>\n",
       "      <td>hp aku gitu dulu xiaomi, tapi ga sampe ke konter ku cari di google alhamdulillah bisa itu siapa tau bootlop nder kalo bootlop gausah ke konter:( sayang uangnya.</td>\n",
       "    </tr>\n",
       "    <tr>\n",
       "      <th>100</th>\n",
       "      <td>mau kalo ada xiaomi note  yg ga finger print soalnya jarang bgt</td>\n",
       "    </tr>\n",
       "  </tbody>\n",
       "</table>\n",
       "<p>101 rows × 1 columns</p>\n",
       "</div>"
      ],
      "text/plain": [
       "                                                                                                                                                                tweet\n",
       "0                                                                                                                                             pake hp xiaomi bisa kan\n",
       "1                                                                                    xiaomi yi action kamera bagus juga buat video bisa di jadikan pertimbangan nihhh\n",
       "2                                                                        ya allah jauhkanlah aku dari godaan clickbait line today dan berita-berita di browser xiaomi\n",
       "3                                                                                                hpmu opo se? kok sawangane jernih koyok iph â xiaomi euy:' ==â â¦\n",
       "4                                                                         numpang nanya itu hapenya xiaomi bukan ya? kalo iya tipe apa? jernih kameranya mirip iphone\n",
       "..                                                                                                                                                                ...\n",
       "96                                                                                                                                               xiaomi bagus ka hehe\n",
       "97                                                                                                                    baru tahu kalo xiaomi bisa screen record wkwkwk\n",
       "98                                                                    bgst mau nanya disini ada yg  xiaomi mi ya susah cari sinyal ga semenjak update ke patch juni ?\n",
       "99   hp aku gitu dulu xiaomi, tapi ga sampe ke konter ku cari di google alhamdulillah bisa itu siapa tau bootlop nder kalo bootlop gausah ke konter:( sayang uangnya.\n",
       "100                                                                                                   mau kalo ada xiaomi note  yg ga finger print soalnya jarang bgt\n",
       "\n",
       "[101 rows x 1 columns]"
      ]
     },
     "execution_count": 7,
     "metadata": {},
     "output_type": "execute_result"
    }
   ],
   "source": [
    "##### CLEANING DATA\n",
    "def clean_text(text):\n",
    "    # Mengubah semua karakter huruf menjadi huruf kecil\n",
    "  text=text.lower()\n",
    "    # Menghilangkan nama akun\n",
    "  text=re.sub(\"@[^\\s]+\", \"\", text)\n",
    "    # Menghilangkan angka\n",
    "  text=re.sub(\"\\w*\\d\\w\", \"\", text)\n",
    "    # Menghilangkan URL\n",
    "  text=re.sub(r'\\w+:\\/{2}[\\d\\w-]+(\\.[\\d\\w-]+)*(?:(?:\\/[^\\s/]*))*', \"\", text)\n",
    "  text=re.sub(r'(https?:\\/\\/)?([\\da-z\\.-]+)\\.([a-z\\.]{2,6})([\\/\\w\\.-]*)*\\/?\\S', \"\", text)\n",
    "    # Menghilangkan Hashtag\n",
    "  text=re.sub(\"#[^\\s]+\", \"\", text)\n",
    "    # Menghilangkan Huruf Tanggal\n",
    "  text=re.sub(r'\\b[a-zA-Z]\\b', \"\", text)\n",
    "  return text\n",
    "clean = lambda x: clean_text(x)\n",
    "dfx=pd.DataFrame(df.tweet.apply(clean))\n",
    "dfx"
   ]
  },
  {
   "cell_type": "code",
   "execution_count": 8,
   "metadata": {},
   "outputs": [
    {
     "data": {
      "text/html": [
       "<div>\n",
       "<style scoped>\n",
       "    .dataframe tbody tr th:only-of-type {\n",
       "        vertical-align: middle;\n",
       "    }\n",
       "\n",
       "    .dataframe tbody tr th {\n",
       "        vertical-align: top;\n",
       "    }\n",
       "\n",
       "    .dataframe thead th {\n",
       "        text-align: right;\n",
       "    }\n",
       "</style>\n",
       "<table border=\"1\" class=\"dataframe\">\n",
       "  <thead>\n",
       "    <tr style=\"text-align: right;\">\n",
       "      <th></th>\n",
       "      <th>tweet</th>\n",
       "    </tr>\n",
       "  </thead>\n",
       "  <tbody>\n",
       "    <tr>\n",
       "      <th>0</th>\n",
       "      <td>pake hp xiaomi bisa kan</td>\n",
       "    </tr>\n",
       "    <tr>\n",
       "      <th>1</th>\n",
       "      <td>xiaomi yi action kamera bagus juga buat video bisa di jadikan pertimbangan nihhh</td>\n",
       "    </tr>\n",
       "    <tr>\n",
       "      <th>2</th>\n",
       "      <td>ya allah jauhkanlah aku dari godaan clickbait line today dan beritaberita di browser xiaomi</td>\n",
       "    </tr>\n",
       "    <tr>\n",
       "      <th>3</th>\n",
       "      <td>hpmu opo se kok sawangane jernih koyok iph â xiaomi euy â â¦</td>\n",
       "    </tr>\n",
       "    <tr>\n",
       "      <th>4</th>\n",
       "      <td>numpang nanya itu hapenya xiaomi bukan ya kalo iya tipe apa jernih kameranya mirip iphone</td>\n",
       "    </tr>\n",
       "    <tr>\n",
       "      <th>...</th>\n",
       "      <td>...</td>\n",
       "    </tr>\n",
       "    <tr>\n",
       "      <th>96</th>\n",
       "      <td>xiaomi bagus ka hehe</td>\n",
       "    </tr>\n",
       "    <tr>\n",
       "      <th>97</th>\n",
       "      <td>baru tahu kalo xiaomi bisa screen record wkwkwk</td>\n",
       "    </tr>\n",
       "    <tr>\n",
       "      <th>98</th>\n",
       "      <td>bgst mau nanya disini ada yg  xiaomi mi ya susah cari sinyal ga semenjak update ke patch juni</td>\n",
       "    </tr>\n",
       "    <tr>\n",
       "      <th>99</th>\n",
       "      <td>hp aku gitu dulu xiaomi tapi ga sampe ke konter ku cari di google alhamdulillah bisa itu siapa tau bootlop nder kalo bootlop gausah ke konter sayang uangnya</td>\n",
       "    </tr>\n",
       "    <tr>\n",
       "      <th>100</th>\n",
       "      <td>mau kalo ada xiaomi note  yg ga finger print soalnya jarang bgt</td>\n",
       "    </tr>\n",
       "  </tbody>\n",
       "</table>\n",
       "<p>101 rows × 1 columns</p>\n",
       "</div>"
      ],
      "text/plain": [
       "                                                                                                                                                            tweet\n",
       "0                                                                                                                                         pake hp xiaomi bisa kan\n",
       "1                                                                                xiaomi yi action kamera bagus juga buat video bisa di jadikan pertimbangan nihhh\n",
       "2                                                                     ya allah jauhkanlah aku dari godaan clickbait line today dan beritaberita di browser xiaomi\n",
       "3                                                                                                 hpmu opo se kok sawangane jernih koyok iph â xiaomi euy â â¦\n",
       "4                                                                       numpang nanya itu hapenya xiaomi bukan ya kalo iya tipe apa jernih kameranya mirip iphone\n",
       "..                                                                                                                                                            ...\n",
       "96                                                                                                                                           xiaomi bagus ka hehe\n",
       "97                                                                                                                baru tahu kalo xiaomi bisa screen record wkwkwk\n",
       "98                                                                 bgst mau nanya disini ada yg  xiaomi mi ya susah cari sinyal ga semenjak update ke patch juni \n",
       "99   hp aku gitu dulu xiaomi tapi ga sampe ke konter ku cari di google alhamdulillah bisa itu siapa tau bootlop nder kalo bootlop gausah ke konter sayang uangnya\n",
       "100                                                                                               mau kalo ada xiaomi note  yg ga finger print soalnya jarang bgt\n",
       "\n",
       "[101 rows x 1 columns]"
      ]
     },
     "execution_count": 8,
     "metadata": {},
     "output_type": "execute_result"
    }
   ],
   "source": [
    "def Punctuation(string):\n",
    "    \n",
    "  # Punctuation marks\n",
    "  punctuation='''!\"#$%&'()*+,-./:;<=>?@[\\]^_`{|}~'''\n",
    "    \n",
    "    # Traverse the given string and if any punctuation marks occur replace it with null\n",
    "    # Marks occur replace it with null\n",
    "  for x in string.lower():\n",
    "    if x in punctuation:\n",
    "      string = string.replace(x, \"\")\n",
    "\n",
    "    # Print string without punctuation\n",
    "  return(string)\n",
    "\n",
    "cleanPunc = lambda x: Punctuation(x)\n",
    "dfx=pd.DataFrame(dfx.tweet.apply(cleanPunc))\n",
    "dfx"
   ]
  },
  {
   "cell_type": "code",
   "execution_count": 9,
   "metadata": {},
   "outputs": [],
   "source": [
    "#Catatan: setiap selesai di proses, cek hasilnya, apakah ada yang berbeda? Ada"
   ]
  },
  {
   "cell_type": "code",
   "execution_count": 10,
   "metadata": {},
   "outputs": [],
   "source": [
    "##### STOPWORD REMOVAL\n",
    "def get_stopword(stopwordsfile):\n",
    "  stopwords=[]\n",
    "  file_stopwords=open(stopwordsfile, 'r')\n",
    "  row= file_stopwords.readline()\n",
    "  while row:\n",
    "    word=row.strip()\n",
    "    stopwords.append(word)\n",
    "    row=file_stopwords.readline()\n",
    "  file_stopwords.close()\n",
    "  return stopwords\n",
    "stop_words_indo=get_stopword(\"./stopwordsindo.txt\")"
   ]
  },
  {
   "cell_type": "code",
   "execution_count": 11,
   "metadata": {},
   "outputs": [],
   "source": [
    "def stopwords(text):\n",
    "  tokens = word_tokenize(text)\n",
    "  filtered = []\n",
    "\n",
    "  for w in tokens:\n",
    "    if w not in stop_words_indo:\n",
    "      filtered.append(w)\n",
    "\n",
    "  hasil=' '.join(filtered)\n",
    "  return hasil\n",
    "\n",
    "st=lambda x: stopwords(x)"
   ]
  },
  {
   "cell_type": "code",
   "execution_count": 12,
   "metadata": {},
   "outputs": [
    {
     "name": "stderr",
     "output_type": "stream",
     "text": [
      "[nltk_data] Downloading package punkt to\n",
      "[nltk_data]     C:\\Users\\afusi\\AppData\\Roaming\\nltk_data...\n",
      "[nltk_data]   Package punkt is already up-to-date!\n"
     ]
    },
    {
     "data": {
      "text/plain": [
       "True"
      ]
     },
     "execution_count": 12,
     "metadata": {},
     "output_type": "execute_result"
    }
   ],
   "source": [
    "import nltk\n",
    "nltk.download('punkt')"
   ]
  },
  {
   "cell_type": "code",
   "execution_count": 13,
   "metadata": {},
   "outputs": [
    {
     "data": {
      "text/html": [
       "<div>\n",
       "<style scoped>\n",
       "    .dataframe tbody tr th:only-of-type {\n",
       "        vertical-align: middle;\n",
       "    }\n",
       "\n",
       "    .dataframe tbody tr th {\n",
       "        vertical-align: top;\n",
       "    }\n",
       "\n",
       "    .dataframe thead th {\n",
       "        text-align: right;\n",
       "    }\n",
       "</style>\n",
       "<table border=\"1\" class=\"dataframe\">\n",
       "  <thead>\n",
       "    <tr style=\"text-align: right;\">\n",
       "      <th></th>\n",
       "      <th>tweet</th>\n",
       "    </tr>\n",
       "  </thead>\n",
       "  <tbody>\n",
       "    <tr>\n",
       "      <th>0</th>\n",
       "      <td>pake hp xiaomi</td>\n",
       "    </tr>\n",
       "    <tr>\n",
       "      <th>1</th>\n",
       "      <td>xiaomi yi action kamera bagus video jadikan pertimbangan nihhh</td>\n",
       "    </tr>\n",
       "    <tr>\n",
       "      <th>2</th>\n",
       "      <td>ya allah jauhkanlah godaan clickbait line today beritaberita browser xiaomi</td>\n",
       "    </tr>\n",
       "    <tr>\n",
       "      <th>3</th>\n",
       "      <td>hpmu opo sawangane jernih koyok iph â xiaomi euy â â¦</td>\n",
       "    </tr>\n",
       "    <tr>\n",
       "      <th>4</th>\n",
       "      <td>numpang nanya hapenya xiaomi ya kalo iya tipe jernih kameranya iphone</td>\n",
       "    </tr>\n",
       "  </tbody>\n",
       "</table>\n",
       "</div>"
      ],
      "text/plain": [
       "                                                                         tweet\n",
       "0                                                               pake hp xiaomi\n",
       "1               xiaomi yi action kamera bagus video jadikan pertimbangan nihhh\n",
       "2  ya allah jauhkanlah godaan clickbait line today beritaberita browser xiaomi\n",
       "3                     hpmu opo sawangane jernih koyok iph â xiaomi euy â â¦\n",
       "4        numpang nanya hapenya xiaomi ya kalo iya tipe jernih kameranya iphone"
      ]
     },
     "execution_count": 13,
     "metadata": {},
     "output_type": "execute_result"
    }
   ],
   "source": [
    "dfx = pd.DataFrame(dfx.tweet.apply(st))\n",
    "dfx.head()"
   ]
  },
  {
   "cell_type": "code",
   "execution_count": 14,
   "metadata": {},
   "outputs": [],
   "source": [
    "#Catatan: apakah ada yang berubah dengan luaran sebelumnya? Apa yang berubah? banyak kata tidak penting yang dibuang"
   ]
  },
  {
   "cell_type": "code",
   "execution_count": 15,
   "metadata": {},
   "outputs": [
    {
     "data": {
      "text/html": [
       "<div>\n",
       "<style scoped>\n",
       "    .dataframe tbody tr th:only-of-type {\n",
       "        vertical-align: middle;\n",
       "    }\n",
       "\n",
       "    .dataframe tbody tr th {\n",
       "        vertical-align: top;\n",
       "    }\n",
       "\n",
       "    .dataframe thead th {\n",
       "        text-align: right;\n",
       "    }\n",
       "</style>\n",
       "<table border=\"1\" class=\"dataframe\">\n",
       "  <thead>\n",
       "    <tr style=\"text-align: right;\">\n",
       "      <th></th>\n",
       "      <th>tweet</th>\n",
       "    </tr>\n",
       "  </thead>\n",
       "  <tbody>\n",
       "    <tr>\n",
       "      <th>0</th>\n",
       "      <td>pake hp xiaomi</td>\n",
       "    </tr>\n",
       "    <tr>\n",
       "      <th>1</th>\n",
       "      <td>xiaomi yi action kamera bagus video jadi timbang nihhh</td>\n",
       "    </tr>\n",
       "    <tr>\n",
       "      <th>2</th>\n",
       "      <td>ya allah jauh goda clickbait line today beritaberita browser xiaomi</td>\n",
       "    </tr>\n",
       "    <tr>\n",
       "      <th>3</th>\n",
       "      <td>hpmu opo sawangane jernih koyok iph xiaomi euy</td>\n",
       "    </tr>\n",
       "    <tr>\n",
       "      <th>4</th>\n",
       "      <td>numpang nanya hapenya xiaomi ya kalo iya tipe jernih kamera iphone</td>\n",
       "    </tr>\n",
       "  </tbody>\n",
       "</table>\n",
       "</div>"
      ],
      "text/plain": [
       "                                                                 tweet\n",
       "0                                                       pake hp xiaomi\n",
       "1               xiaomi yi action kamera bagus video jadi timbang nihhh\n",
       "2  ya allah jauh goda clickbait line today beritaberita browser xiaomi\n",
       "3                       hpmu opo sawangane jernih koyok iph xiaomi euy\n",
       "4   numpang nanya hapenya xiaomi ya kalo iya tipe jernih kamera iphone"
      ]
     },
     "execution_count": 15,
     "metadata": {},
     "output_type": "execute_result"
    }
   ],
   "source": [
    "##### STEMMING\n",
    "def stemming(text):\n",
    "  factory_stem=StemmerFactory()\n",
    "  stemmer=factory_stem.create_stemmer()\n",
    "  text=stemmer.stem(text)\n",
    "  return text\n",
    "\n",
    "stem = lambda x: stemming(x)\n",
    "dfx = pd.DataFrame(dfx.tweet.apply(stem))\n",
    "dfx.head()"
   ]
  },
  {
   "cell_type": "code",
   "execution_count": 16,
   "metadata": {},
   "outputs": [],
   "source": [
    "#Catatan: apakah ada yang berubah dengan luaran sebelumnya? Apa yang berubah? semua menjadi kata dasar"
   ]
  },
  {
   "cell_type": "code",
   "execution_count": 17,
   "metadata": {},
   "outputs": [
    {
     "data": {
      "text/html": [
       "<div>\n",
       "<style scoped>\n",
       "    .dataframe tbody tr th:only-of-type {\n",
       "        vertical-align: middle;\n",
       "    }\n",
       "\n",
       "    .dataframe tbody tr th {\n",
       "        vertical-align: top;\n",
       "    }\n",
       "\n",
       "    .dataframe thead th {\n",
       "        text-align: right;\n",
       "    }\n",
       "</style>\n",
       "<table border=\"1\" class=\"dataframe\">\n",
       "  <thead>\n",
       "    <tr style=\"text-align: right;\">\n",
       "      <th></th>\n",
       "      <th>tweet</th>\n",
       "      <th>sentiment</th>\n",
       "    </tr>\n",
       "  </thead>\n",
       "  <tbody>\n",
       "    <tr>\n",
       "      <th>0</th>\n",
       "      <td>pake hp xiaomi</td>\n",
       "      <td>Positive</td>\n",
       "    </tr>\n",
       "    <tr>\n",
       "      <th>1</th>\n",
       "      <td>xiaomi yi action kamera bagus video jadi timbang nihhh</td>\n",
       "      <td>Positive</td>\n",
       "    </tr>\n",
       "    <tr>\n",
       "      <th>2</th>\n",
       "      <td>ya allah jauh goda clickbait line today beritaberita browser xiaomi</td>\n",
       "      <td>Positive</td>\n",
       "    </tr>\n",
       "    <tr>\n",
       "      <th>3</th>\n",
       "      <td>hpmu opo sawangane jernih koyok iph xiaomi euy</td>\n",
       "      <td>Positive</td>\n",
       "    </tr>\n",
       "    <tr>\n",
       "      <th>4</th>\n",
       "      <td>numpang nanya hapenya xiaomi ya kalo iya tipe jernih kamera iphone</td>\n",
       "      <td>Positive</td>\n",
       "    </tr>\n",
       "    <tr>\n",
       "      <th>...</th>\n",
       "      <td>...</td>\n",
       "      <td>...</td>\n",
       "    </tr>\n",
       "    <tr>\n",
       "      <th>96</th>\n",
       "      <td>xiaomi bagus ka hehe</td>\n",
       "      <td>Positive</td>\n",
       "    </tr>\n",
       "    <tr>\n",
       "      <th>97</th>\n",
       "      <td>kalo xiaomi screen record wkwkwk</td>\n",
       "      <td>Positive</td>\n",
       "    </tr>\n",
       "    <tr>\n",
       "      <th>98</th>\n",
       "      <td>bgst nanya yg xiaomi mi ya susah cari sinyal ga semenjak update patch juni</td>\n",
       "      <td>Negative</td>\n",
       "    </tr>\n",
       "    <tr>\n",
       "      <th>99</th>\n",
       "      <td>hp gitu xiaomi ga sampe konter ku cari google alhamdulillah tau bootlop nder kalo bootlop gausah konter sayang uang</td>\n",
       "      <td>Negative</td>\n",
       "    </tr>\n",
       "    <tr>\n",
       "      <th>100</th>\n",
       "      <td>kalo xiaomi note yg ga finger print jarang bgt</td>\n",
       "      <td>Positive</td>\n",
       "    </tr>\n",
       "  </tbody>\n",
       "</table>\n",
       "<p>101 rows × 2 columns</p>\n",
       "</div>"
      ],
      "text/plain": [
       "                                                                                                                   tweet  \\\n",
       "0                                                                                                         pake hp xiaomi   \n",
       "1                                                                 xiaomi yi action kamera bagus video jadi timbang nihhh   \n",
       "2                                                    ya allah jauh goda clickbait line today beritaberita browser xiaomi   \n",
       "3                                                                         hpmu opo sawangane jernih koyok iph xiaomi euy   \n",
       "4                                                     numpang nanya hapenya xiaomi ya kalo iya tipe jernih kamera iphone   \n",
       "..                                                                                                                   ...   \n",
       "96                                                                                                  xiaomi bagus ka hehe   \n",
       "97                                                                                      kalo xiaomi screen record wkwkwk   \n",
       "98                                            bgst nanya yg xiaomi mi ya susah cari sinyal ga semenjak update patch juni   \n",
       "99   hp gitu xiaomi ga sampe konter ku cari google alhamdulillah tau bootlop nder kalo bootlop gausah konter sayang uang   \n",
       "100                                                                       kalo xiaomi note yg ga finger print jarang bgt   \n",
       "\n",
       "    sentiment  \n",
       "0    Positive  \n",
       "1    Positive  \n",
       "2    Positive  \n",
       "3    Positive  \n",
       "4    Positive  \n",
       "..        ...  \n",
       "96   Positive  \n",
       "97   Positive  \n",
       "98   Negative  \n",
       "99   Negative  \n",
       "100  Positive  \n",
       "\n",
       "[101 rows x 2 columns]"
      ]
     },
     "execution_count": 17,
     "metadata": {},
     "output_type": "execute_result"
    }
   ],
   "source": [
    "##### GABUNG DENGAN ATRIBUT KELAS\n",
    "dfx[\"sentiment\"]=df[\"sentiment\"]\n",
    "dfx"
   ]
  },
  {
   "cell_type": "code",
   "execution_count": 18,
   "metadata": {},
   "outputs": [],
   "source": [
    "##### VECTORIZED\n",
    "vectorizer = TfidfVectorizer(use_idf=True, strip_accents=\"ascii\")"
   ]
  },
  {
   "cell_type": "code",
   "execution_count": 19,
   "metadata": {},
   "outputs": [],
   "source": [
    "##### PEMBUATAN MODEL KLASIFIKASI\n",
    "y= dfx.sentiment\n",
    "X= dfx.tweet"
   ]
  },
  {
   "cell_type": "code",
   "execution_count": 20,
   "metadata": {},
   "outputs": [
    {
     "data": {
      "text/plain": [
       "0.6774193548387096"
      ]
     },
     "execution_count": 20,
     "metadata": {},
     "output_type": "execute_result"
    }
   ],
   "source": [
    "X_train, X_test, y_train, y_test = train_test_split(X, y, test_size=0.3, random_state=33)\n",
    "X_train_vect = vectorizer.fit_transform(X_train)\n",
    "X_test_vect=vectorizer.transform(X_test)\n",
    "\n",
    "#Multinomial Naive Bayes\n",
    "mnb = MultinomialNB()\n",
    "\n",
    "mnb.fit(X_train_vect, y_train)\n",
    "y_pred = mnb.predict(X_test_vect)\n",
    "\n",
    "accuracy_score(y_test, y_pred)"
   ]
  },
  {
   "cell_type": "code",
   "execution_count": 21,
   "metadata": {},
   "outputs": [
    {
     "name": "stdout",
     "output_type": "stream",
     "text": [
      "[[ 0 10]\n",
      " [ 0 21]]\n"
     ]
    }
   ],
   "source": [
    "##### LATIHAN\n",
    "from sklearn.metrics import classification_report, confusion_matrix\n",
    "#Confusion matrix\n",
    "print(confusion_matrix(y_test, y_pred))"
   ]
  },
  {
   "cell_type": "code",
   "execution_count": 22,
   "metadata": {},
   "outputs": [
    {
     "name": "stdout",
     "output_type": "stream",
     "text": [
      "              precision    recall  f1-score   support\n",
      "\n",
      "    Negative       0.00      0.00      0.00        10\n",
      "    Positive       0.68      1.00      0.81        21\n",
      "\n",
      "    accuracy                           0.68        31\n",
      "   macro avg       0.34      0.50      0.40        31\n",
      "weighted avg       0.46      0.68      0.55        31\n",
      "\n"
     ]
    },
    {
     "name": "stderr",
     "output_type": "stream",
     "text": [
      "C:\\ProgramData\\Anaconda3\\lib\\site-packages\\sklearn\\metrics\\_classification.py:1221: UndefinedMetricWarning: Precision and F-score are ill-defined and being set to 0.0 in labels with no predicted samples. Use `zero_division` parameter to control this behavior.\n",
      "  _warn_prf(average, modifier, msg_start, len(result))\n"
     ]
    }
   ],
   "source": [
    "# Precision, recall, dll\n",
    "print(classification_report(y_test, y_pred, zero_division=\"warn\"))"
   ]
  },
  {
   "cell_type": "code",
   "execution_count": 23,
   "metadata": {},
   "outputs": [],
   "source": [
    "#Ini berarti bahwa tidak ada skor-F yang dihitung untuk label ini, dan dengan demikian skor-F untuk kasus ini dianggap 0,0. Karena Anda meminta skor rata-rata, Anda harus memperhitungkan bahwa skor 0 disertakan dalam perhitungan, dan inilah mengapa scikit-learn menunjukkan peringatan itu kepada Anda."
   ]
  },
  {
   "cell_type": "code",
   "execution_count": 24,
   "metadata": {},
   "outputs": [
    {
     "name": "stdout",
     "output_type": "stream",
     "text": [
      "MNB\n",
      "Rata-rata nilai akurasi: 0.71 (+/- 0.03)\n",
      "Rata-rata nilai precision macro: 0.36 (+/- 0.02)\n",
      "Rata-rata nilai recall macro: 0.50 (+/- 0.00)\n",
      "Rata-rata nilai f1 macro: 0.42 (+/- 0.01)\n"
     ]
    },
    {
     "name": "stderr",
     "output_type": "stream",
     "text": [
      "C:\\ProgramData\\Anaconda3\\lib\\site-packages\\sklearn\\metrics\\_classification.py:1221: UndefinedMetricWarning: Precision is ill-defined and being set to 0.0 in labels with no predicted samples. Use `zero_division` parameter to control this behavior.\n",
      "  _warn_prf(average, modifier, msg_start, len(result))\n",
      "C:\\ProgramData\\Anaconda3\\lib\\site-packages\\sklearn\\metrics\\_classification.py:1221: UndefinedMetricWarning: Precision is ill-defined and being set to 0.0 in labels with no predicted samples. Use `zero_division` parameter to control this behavior.\n",
      "  _warn_prf(average, modifier, msg_start, len(result))\n",
      "C:\\ProgramData\\Anaconda3\\lib\\site-packages\\sklearn\\metrics\\_classification.py:1221: UndefinedMetricWarning: Precision is ill-defined and being set to 0.0 in labels with no predicted samples. Use `zero_division` parameter to control this behavior.\n",
      "  _warn_prf(average, modifier, msg_start, len(result))\n",
      "C:\\ProgramData\\Anaconda3\\lib\\site-packages\\sklearn\\metrics\\_classification.py:1221: UndefinedMetricWarning: Precision is ill-defined and being set to 0.0 in labels with no predicted samples. Use `zero_division` parameter to control this behavior.\n",
      "  _warn_prf(average, modifier, msg_start, len(result))\n",
      "C:\\ProgramData\\Anaconda3\\lib\\site-packages\\sklearn\\metrics\\_classification.py:1221: UndefinedMetricWarning: Precision is ill-defined and being set to 0.0 in labels with no predicted samples. Use `zero_division` parameter to control this behavior.\n",
      "  _warn_prf(average, modifier, msg_start, len(result))\n",
      "C:\\ProgramData\\Anaconda3\\lib\\site-packages\\sklearn\\metrics\\_classification.py:1221: UndefinedMetricWarning: Precision is ill-defined and being set to 0.0 in labels with no predicted samples. Use `zero_division` parameter to control this behavior.\n",
      "  _warn_prf(average, modifier, msg_start, len(result))\n",
      "C:\\ProgramData\\Anaconda3\\lib\\site-packages\\sklearn\\metrics\\_classification.py:1221: UndefinedMetricWarning: Precision is ill-defined and being set to 0.0 in labels with no predicted samples. Use `zero_division` parameter to control this behavior.\n",
      "  _warn_prf(average, modifier, msg_start, len(result))\n",
      "C:\\ProgramData\\Anaconda3\\lib\\site-packages\\sklearn\\metrics\\_classification.py:1221: UndefinedMetricWarning: Precision is ill-defined and being set to 0.0 in labels with no predicted samples. Use `zero_division` parameter to control this behavior.\n",
      "  _warn_prf(average, modifier, msg_start, len(result))\n",
      "C:\\ProgramData\\Anaconda3\\lib\\site-packages\\sklearn\\metrics\\_classification.py:1221: UndefinedMetricWarning: Precision is ill-defined and being set to 0.0 in labels with no predicted samples. Use `zero_division` parameter to control this behavior.\n",
      "  _warn_prf(average, modifier, msg_start, len(result))\n",
      "C:\\ProgramData\\Anaconda3\\lib\\site-packages\\sklearn\\metrics\\_classification.py:1221: UndefinedMetricWarning: Precision is ill-defined and being set to 0.0 in labels with no predicted samples. Use `zero_division` parameter to control this behavior.\n",
      "  _warn_prf(average, modifier, msg_start, len(result))\n"
     ]
    }
   ],
   "source": [
    "#Cross val\n",
    "X_val=vectorizer.fit_transform(X)\n",
    "from sklearn.model_selection import cross_val_score\n",
    "print(\"MNB\")\n",
    "scores_accuracy_mnb = cross_val_score(mnb, X_val, y, cv=10, scoring='accuracy')\n",
    "print(\"Rata-rata nilai akurasi: %0.2f (+/- %0.2f)\" % (scores_accuracy_mnb.mean(), scores_accuracy_mnb.std()))\n",
    "\n",
    "scores_precision_mnb = cross_val_score(mnb, X_val, y, cv=10, scoring='precision_macro')\n",
    "print(\"Rata-rata nilai precision macro: %0.2f (+/- %0.2f)\" % (scores_precision_mnb.mean(), scores_precision_mnb.std()))\n",
    "\n",
    "scores_recall_mnb = cross_val_score(mnb, X_val, y, cv=10, scoring='recall_macro')\n",
    "print(\"Rata-rata nilai recall macro: %0.2f (+/- %0.2f)\" % (scores_recall_mnb.mean(), scores_recall_mnb.std()))\n",
    "\n",
    "scores_f1_mnb = cross_val_score(mnb, X_val, y, cv=10, scoring='f1_macro')\n",
    "print(\"Rata-rata nilai f1 macro: %0.2f (+/- %0.2f)\" % (scores_f1_mnb.mean(), scores_f1_mnb.std()))"
   ]
  },
  {
   "cell_type": "code",
   "execution_count": null,
   "metadata": {},
   "outputs": [],
   "source": []
  },
  {
   "cell_type": "code",
   "execution_count": null,
   "metadata": {},
   "outputs": [],
   "source": []
  },
  {
   "cell_type": "code",
   "execution_count": null,
   "metadata": {},
   "outputs": [],
   "source": []
  },
  {
   "cell_type": "code",
   "execution_count": null,
   "metadata": {},
   "outputs": [],
   "source": []
  },
  {
   "cell_type": "code",
   "execution_count": null,
   "metadata": {},
   "outputs": [],
   "source": []
  },
  {
   "cell_type": "code",
   "execution_count": null,
   "metadata": {},
   "outputs": [],
   "source": []
  },
  {
   "cell_type": "code",
   "execution_count": null,
   "metadata": {},
   "outputs": [],
   "source": []
  },
  {
   "cell_type": "code",
   "execution_count": null,
   "metadata": {},
   "outputs": [],
   "source": []
  },
  {
   "cell_type": "code",
   "execution_count": null,
   "metadata": {},
   "outputs": [],
   "source": []
  },
  {
   "cell_type": "code",
   "execution_count": null,
   "metadata": {},
   "outputs": [],
   "source": []
  },
  {
   "cell_type": "code",
   "execution_count": null,
   "metadata": {},
   "outputs": [],
   "source": []
  },
  {
   "cell_type": "code",
   "execution_count": null,
   "metadata": {},
   "outputs": [],
   "source": []
  }
 ],
 "metadata": {
  "kernelspec": {
   "display_name": "Python 3",
   "language": "python",
   "name": "python3"
  },
  "language_info": {
   "codemirror_mode": {
    "name": "ipython",
    "version": 3
   },
   "file_extension": ".py",
   "mimetype": "text/x-python",
   "name": "python",
   "nbconvert_exporter": "python",
   "pygments_lexer": "ipython3",
   "version": "3.8.5"
  }
 },
 "nbformat": 4,
 "nbformat_minor": 4
}
